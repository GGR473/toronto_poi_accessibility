{
 "cells": [
  {
   "cell_type": "markdown",
   "id": "3525f9f0-70e8-4e62-862c-c1b32e534b50",
   "metadata": {},
   "source": [
    "# Database Management and Viewing\n",
    "\n",
    "This notebook is intended for SQL database instantiating, viewing, and manipulating the data directly."
   ]
  }
 ],
 "metadata": {
  "kernelspec": {
   "display_name": "xsql [conda env:geo]",
   "language": "sqlite",
   "name": "conda-env-geo-xsql"
  },
  "language_info": {
   "codemirror_mode": "sql",
   "file_extension": "",
   "mimetype": "",
   "name": "mysql",
   "version": "0.2.1"
  },
  "widgets": {
   "application/vnd.jupyter.widget-state+json": {
    "state": {},
    "version_major": 2,
    "version_minor": 0
   }
  }
 },
 "nbformat": 4,
 "nbformat_minor": 5
}
