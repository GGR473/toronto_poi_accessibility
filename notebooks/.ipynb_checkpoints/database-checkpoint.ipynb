{
 "cells": [
  {
   "cell_type": "code",
   "execution_count": null,
   "id": "8d8c900f-a71d-4e22-af5a-bf8a50ab6b96",
   "metadata": {},
   "outputs": [],
   "source": []
  }
 ],
 "metadata": {
  "kernelspec": {
   "display_name": "xsql [conda env:geo]",
   "language": "sqlite",
   "name": "conda-env-geo-xsql"
  },
  "language_info": {
   "codemirror_mode": "sql",
   "file_extension": "",
   "mimetype": "",
   "name": "mysql",
   "version": "0.2.1"
  },
  "widgets": {
   "application/vnd.jupyter.widget-state+json": {
    "state": {},
    "version_major": 2,
    "version_minor": 0
   }
  }
 },
 "nbformat": 4,
 "nbformat_minor": 5
}
