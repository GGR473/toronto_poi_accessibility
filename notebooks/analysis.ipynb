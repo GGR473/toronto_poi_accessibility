{
 "cells": [
  {
   "cell_type": "markdown",
   "id": "4cc6867c-3f6f-4b00-bae4-d37658690e13",
   "metadata": {},
   "source": [
    "# POI Accessibility Analysis\n",
    "\n",
    "This is the notebook for the actual analysis and may interface with the database in some way."
   ]
  }
 ],
 "metadata": {
  "kernelspec": {
   "display_name": "Python [conda env:geo]",
   "language": "python",
   "name": "conda-env-geo-py"
  },
  "language_info": {
   "codemirror_mode": {
    "name": "ipython",
    "version": 3
   },
   "file_extension": ".py",
   "mimetype": "text/x-python",
   "name": "python",
   "nbconvert_exporter": "python",
   "pygments_lexer": "ipython3",
   "version": "3.12.0"
  },
  "widgets": {
   "application/vnd.jupyter.widget-state+json": {
    "state": {},
    "version_major": 2,
    "version_minor": 0
   }
  }
 },
 "nbformat": 4,
 "nbformat_minor": 5
}
